{
  "nbformat": 4,
  "nbformat_minor": 0,
  "metadata": {
    "colab": {
      "name": "First_Deeplearning_project.ipynb",
      "version": "0.3.2",
      "provenance": [],
      "collapsed_sections": []
    },
    "kernelspec": {
      "name": "python3",
      "display_name": "Python 3"
    }
  },
  "cells": [
    {
      "cell_type": "code",
      "metadata": {
        "id": "a6YlnZwXZgXp",
        "colab_type": "code",
        "outputId": "b49aa545-7e0a-4f38-a748-53a8f242602b",
        "colab": {
          "base_uri": "https://localhost:8080/",
          "height": 34
        }
      },
      "source": [
        "import keras\n",
        "import numpy as np\n",
        "import matplotlib.pyplot as plt\n",
        "%matplotlib inline\n"
      ],
      "execution_count": 0,
      "outputs": [
        {
          "output_type": "stream",
          "text": [
            "Using TensorFlow backend.\n"
          ],
          "name": "stderr"
        }
      ]
    },
    {
      "cell_type": "code",
      "metadata": {
        "id": "JglfR-ljZ-MN",
        "colab_type": "code",
        "outputId": "df42a730-28ad-4b75-a33d-e1f2f47669f4",
        "colab": {
          "base_uri": "https://localhost:8080/",
          "height": 34
        }
      },
      "source": [
        "keras.backend.backend()"
      ],
      "execution_count": 0,
      "outputs": [
        {
          "output_type": "execute_result",
          "data": {
            "text/plain": [
              "'tensorflow'"
            ]
          },
          "metadata": {
            "tags": []
          },
          "execution_count": 3
        }
      ]
    },
    {
      "cell_type": "markdown",
      "metadata": {
        "id": "gMgucnpMlNJU",
        "colab_type": "text"
      },
      "source": [
        "## **Collect data**"
      ]
    },
    {
      "cell_type": "code",
      "metadata": {
        "id": "-JfGhMYwaGpt",
        "colab_type": "code",
        "outputId": "6d3d3e35-04c8-4ce8-ebd6-504585c6f1c4",
        "colab": {
          "base_uri": "https://localhost:8080/",
          "height": 171
        }
      },
      "source": [
        "fm = keras.datasets.fashion_mnist\n",
        "(X_train, y_train), (X_test, y_test) = fm.load_data()"
      ],
      "execution_count": 0,
      "outputs": [
        {
          "output_type": "stream",
          "text": [
            "Downloading data from http://fashion-mnist.s3-website.eu-central-1.amazonaws.com/train-labels-idx1-ubyte.gz\n",
            "32768/29515 [=================================] - 0s 4us/step\n",
            "Downloading data from http://fashion-mnist.s3-website.eu-central-1.amazonaws.com/train-images-idx3-ubyte.gz\n",
            "26427392/26421880 [==============================] - 2s 0us/step\n",
            "Downloading data from http://fashion-mnist.s3-website.eu-central-1.amazonaws.com/t10k-labels-idx1-ubyte.gz\n",
            "8192/5148 [===============================================] - 0s 0us/step\n",
            "Downloading data from http://fashion-mnist.s3-website.eu-central-1.amazonaws.com/t10k-images-idx3-ubyte.gz\n",
            "4423680/4422102 [==============================] - 1s 0us/step\n"
          ],
          "name": "stdout"
        }
      ]
    },
    {
      "cell_type": "code",
      "metadata": {
        "id": "3s4-wdd1algn",
        "colab_type": "code",
        "outputId": "1a825c21-0702-4784-a2e8-de08072bb023",
        "colab": {
          "base_uri": "https://localhost:8080/",
          "height": 34
        }
      },
      "source": [
        "X_train.shape"
      ],
      "execution_count": 0,
      "outputs": [
        {
          "output_type": "execute_result",
          "data": {
            "text/plain": [
              "(60000, 28, 28)"
            ]
          },
          "metadata": {
            "tags": []
          },
          "execution_count": 5
        }
      ]
    },
    {
      "cell_type": "code",
      "metadata": {
        "id": "rfL0cZ59ao9n",
        "colab_type": "code",
        "outputId": "59a4f893-8f53-4c52-f97d-1b96b8a1bdf6",
        "colab": {
          "base_uri": "https://localhost:8080/",
          "height": 34
        }
      },
      "source": [
        "X_test.shape"
      ],
      "execution_count": 0,
      "outputs": [
        {
          "output_type": "execute_result",
          "data": {
            "text/plain": [
              "(10000, 28, 28)"
            ]
          },
          "metadata": {
            "tags": []
          },
          "execution_count": 6
        }
      ]
    },
    {
      "cell_type": "code",
      "metadata": {
        "id": "IQ4tI97gavzS",
        "colab_type": "code",
        "outputId": "8c2751ef-09f7-4192-ee4f-ac16c05283ca",
        "colab": {
          "base_uri": "https://localhost:8080/",
          "height": 1000
        }
      },
      "source": [
        "X_train[0]\n"
      ],
      "execution_count": 0,
      "outputs": [
        {
          "output_type": "execute_result",
          "data": {
            "text/plain": [
              "array([[  0,   0,   0,   0,   0,   0,   0,   0,   0,   0,   0,   0,   0,\n",
              "          0,   0,   0,   0,   0,   0,   0,   0,   0,   0,   0,   0,   0,\n",
              "          0,   0],\n",
              "       [  0,   0,   0,   0,   0,   0,   0,   0,   0,   0,   0,   0,   0,\n",
              "          0,   0,   0,   0,   0,   0,   0,   0,   0,   0,   0,   0,   0,\n",
              "          0,   0],\n",
              "       [  0,   0,   0,   0,   0,   0,   0,   0,   0,   0,   0,   0,   0,\n",
              "          0,   0,   0,   0,   0,   0,   0,   0,   0,   0,   0,   0,   0,\n",
              "          0,   0],\n",
              "       [  0,   0,   0,   0,   0,   0,   0,   0,   0,   0,   0,   0,   1,\n",
              "          0,   0,  13,  73,   0,   0,   1,   4,   0,   0,   0,   0,   1,\n",
              "          1,   0],\n",
              "       [  0,   0,   0,   0,   0,   0,   0,   0,   0,   0,   0,   0,   3,\n",
              "          0,  36, 136, 127,  62,  54,   0,   0,   0,   1,   3,   4,   0,\n",
              "          0,   3],\n",
              "       [  0,   0,   0,   0,   0,   0,   0,   0,   0,   0,   0,   0,   6,\n",
              "          0, 102, 204, 176, 134, 144, 123,  23,   0,   0,   0,   0,  12,\n",
              "         10,   0],\n",
              "       [  0,   0,   0,   0,   0,   0,   0,   0,   0,   0,   0,   0,   0,\n",
              "          0, 155, 236, 207, 178, 107, 156, 161, 109,  64,  23,  77, 130,\n",
              "         72,  15],\n",
              "       [  0,   0,   0,   0,   0,   0,   0,   0,   0,   0,   0,   1,   0,\n",
              "         69, 207, 223, 218, 216, 216, 163, 127, 121, 122, 146, 141,  88,\n",
              "        172,  66],\n",
              "       [  0,   0,   0,   0,   0,   0,   0,   0,   0,   1,   1,   1,   0,\n",
              "        200, 232, 232, 233, 229, 223, 223, 215, 213, 164, 127, 123, 196,\n",
              "        229,   0],\n",
              "       [  0,   0,   0,   0,   0,   0,   0,   0,   0,   0,   0,   0,   0,\n",
              "        183, 225, 216, 223, 228, 235, 227, 224, 222, 224, 221, 223, 245,\n",
              "        173,   0],\n",
              "       [  0,   0,   0,   0,   0,   0,   0,   0,   0,   0,   0,   0,   0,\n",
              "        193, 228, 218, 213, 198, 180, 212, 210, 211, 213, 223, 220, 243,\n",
              "        202,   0],\n",
              "       [  0,   0,   0,   0,   0,   0,   0,   0,   0,   1,   3,   0,  12,\n",
              "        219, 220, 212, 218, 192, 169, 227, 208, 218, 224, 212, 226, 197,\n",
              "        209,  52],\n",
              "       [  0,   0,   0,   0,   0,   0,   0,   0,   0,   0,   6,   0,  99,\n",
              "        244, 222, 220, 218, 203, 198, 221, 215, 213, 222, 220, 245, 119,\n",
              "        167,  56],\n",
              "       [  0,   0,   0,   0,   0,   0,   0,   0,   0,   4,   0,   0,  55,\n",
              "        236, 228, 230, 228, 240, 232, 213, 218, 223, 234, 217, 217, 209,\n",
              "         92,   0],\n",
              "       [  0,   0,   1,   4,   6,   7,   2,   0,   0,   0,   0,   0, 237,\n",
              "        226, 217, 223, 222, 219, 222, 221, 216, 223, 229, 215, 218, 255,\n",
              "         77,   0],\n",
              "       [  0,   3,   0,   0,   0,   0,   0,   0,   0,  62, 145, 204, 228,\n",
              "        207, 213, 221, 218, 208, 211, 218, 224, 223, 219, 215, 224, 244,\n",
              "        159,   0],\n",
              "       [  0,   0,   0,   0,  18,  44,  82, 107, 189, 228, 220, 222, 217,\n",
              "        226, 200, 205, 211, 230, 224, 234, 176, 188, 250, 248, 233, 238,\n",
              "        215,   0],\n",
              "       [  0,  57, 187, 208, 224, 221, 224, 208, 204, 214, 208, 209, 200,\n",
              "        159, 245, 193, 206, 223, 255, 255, 221, 234, 221, 211, 220, 232,\n",
              "        246,   0],\n",
              "       [  3, 202, 228, 224, 221, 211, 211, 214, 205, 205, 205, 220, 240,\n",
              "         80, 150, 255, 229, 221, 188, 154, 191, 210, 204, 209, 222, 228,\n",
              "        225,   0],\n",
              "       [ 98, 233, 198, 210, 222, 229, 229, 234, 249, 220, 194, 215, 217,\n",
              "        241,  65,  73, 106, 117, 168, 219, 221, 215, 217, 223, 223, 224,\n",
              "        229,  29],\n",
              "       [ 75, 204, 212, 204, 193, 205, 211, 225, 216, 185, 197, 206, 198,\n",
              "        213, 240, 195, 227, 245, 239, 223, 218, 212, 209, 222, 220, 221,\n",
              "        230,  67],\n",
              "       [ 48, 203, 183, 194, 213, 197, 185, 190, 194, 192, 202, 214, 219,\n",
              "        221, 220, 236, 225, 216, 199, 206, 186, 181, 177, 172, 181, 205,\n",
              "        206, 115],\n",
              "       [  0, 122, 219, 193, 179, 171, 183, 196, 204, 210, 213, 207, 211,\n",
              "        210, 200, 196, 194, 191, 195, 191, 198, 192, 176, 156, 167, 177,\n",
              "        210,  92],\n",
              "       [  0,   0,  74, 189, 212, 191, 175, 172, 175, 181, 185, 188, 189,\n",
              "        188, 193, 198, 204, 209, 210, 210, 211, 188, 188, 194, 192, 216,\n",
              "        170,   0],\n",
              "       [  2,   0,   0,   0,  66, 200, 222, 237, 239, 242, 246, 243, 244,\n",
              "        221, 220, 193, 191, 179, 182, 182, 181, 176, 166, 168,  99,  58,\n",
              "          0,   0],\n",
              "       [  0,   0,   0,   0,   0,   0,   0,  40,  61,  44,  72,  41,  35,\n",
              "          0,   0,   0,   0,   0,   0,   0,   0,   0,   0,   0,   0,   0,\n",
              "          0,   0],\n",
              "       [  0,   0,   0,   0,   0,   0,   0,   0,   0,   0,   0,   0,   0,\n",
              "          0,   0,   0,   0,   0,   0,   0,   0,   0,   0,   0,   0,   0,\n",
              "          0,   0],\n",
              "       [  0,   0,   0,   0,   0,   0,   0,   0,   0,   0,   0,   0,   0,\n",
              "          0,   0,   0,   0,   0,   0,   0,   0,   0,   0,   0,   0,   0,\n",
              "          0,   0]], dtype=uint8)"
            ]
          },
          "metadata": {
            "tags": []
          },
          "execution_count": 7
        }
      ]
    },
    {
      "cell_type": "markdown",
      "metadata": {
        "id": "WW8tvJIPbZOG",
        "colab_type": "text"
      },
      "source": [
        "##**Normalize training data before training the neural net**\n",
        "\n"
      ]
    },
    {
      "cell_type": "code",
      "metadata": {
        "id": "ZKMXDGoK9N5d",
        "colab_type": "code",
        "colab": {}
      },
      "source": [
        "X_train = X_train.reshape(60000,28,28,1)"
      ],
      "execution_count": 0,
      "outputs": []
    },
    {
      "cell_type": "code",
      "metadata": {
        "id": "9zNwpy6nbOfK",
        "colab_type": "code",
        "colab": {}
      },
      "source": [
        "X_train = X_train/255"
      ],
      "execution_count": 0,
      "outputs": []
    },
    {
      "cell_type": "code",
      "metadata": {
        "id": "jjuSLE269YfG",
        "colab_type": "code",
        "colab": {}
      },
      "source": [
        "X_test = X_test.reshape(10000,28,28,1)"
      ],
      "execution_count": 0,
      "outputs": []
    },
    {
      "cell_type": "code",
      "metadata": {
        "id": "9L0aVf7mbAWb",
        "colab_type": "code",
        "colab": {}
      },
      "source": [
        "X_test = X_test/255"
      ],
      "execution_count": 0,
      "outputs": []
    },
    {
      "cell_type": "markdown",
      "metadata": {
        "id": "x9WwphLSbnEq",
        "colab_type": "text"
      },
      "source": [
        "##**Now bulid Sequential Model and add Layers into it**\n",
        "\n"
      ]
    },
    {
      "cell_type": "code",
      "metadata": {
        "id": "AYxaOGN7blVx",
        "colab_type": "code",
        "colab": {}
      },
      "source": [
        "from keras.models import Sequential\n",
        "from keras.layers import Flatten, Dense ,Activation,Dropout, Conv2D,MaxPooling2D\n",
        "\n",
        "model = Sequential() # here we choose sequencial model,there are other models also availble in documentation\n",
        "model.add(Conv2D(32, (3,3), activation='relu',input_shape =(28,28,1)))\n",
        "model.add(MaxPooling2D((2,2))) \n",
        "model.add(Dropout(0.25))\n",
        "\n",
        "model.add(Conv2D(64,(3,3),activation='relu'))\n",
        "model.add(MaxPooling2D((2,2)))\n",
        "model.add(Dropout(0.25))\n",
        "\n",
        "model.add(Conv2D(128,(3,3),activation='relu'))\n",
        "model.add(Dropout(0.4))\n",
        "model.add(Flatten()) # Flatten is converted 2D array in to 1D array\n",
        "model.add(Dense(128,activation = 'relu')) # hidden layer with 100 neurons(It is base on try and error method to aassume neurons)\n",
        "model.add(Dropout(0.3))\n",
        "model.add(Dense(10,activation = 'softmax'))#activation Function is Softmax(Softmax is doing distributing set of number into just probabilities of your available classes )"
      ],
      "execution_count": 0,
      "outputs": []
    },
    {
      "cell_type": "code",
      "metadata": {
        "id": "8Ufz1YJfovSF",
        "colab_type": "code",
        "colab": {}
      },
      "source": [
        ""
      ],
      "execution_count": 0,
      "outputs": []
    },
    {
      "cell_type": "code",
      "metadata": {
        "id": "UG3RZ-jnc8LK",
        "colab_type": "code",
        "outputId": "37475c08-4595-4562-aa8d-54fbb378a680",
        "colab": {
          "base_uri": "https://localhost:8080/",
          "height": 538
        }
      },
      "source": [
        "model.summary()"
      ],
      "execution_count": 0,
      "outputs": [
        {
          "output_type": "stream",
          "text": [
            "_________________________________________________________________\n",
            "Layer (type)                 Output Shape              Param #   \n",
            "=================================================================\n",
            "conv2d_4 (Conv2D)            (None, 26, 26, 32)        320       \n",
            "_________________________________________________________________\n",
            "max_pooling2d_3 (MaxPooling2 (None, 13, 13, 32)        0         \n",
            "_________________________________________________________________\n",
            "dropout_5 (Dropout)          (None, 13, 13, 32)        0         \n",
            "_________________________________________________________________\n",
            "conv2d_5 (Conv2D)            (None, 11, 11, 64)        18496     \n",
            "_________________________________________________________________\n",
            "max_pooling2d_4 (MaxPooling2 (None, 5, 5, 64)          0         \n",
            "_________________________________________________________________\n",
            "dropout_6 (Dropout)          (None, 5, 5, 64)          0         \n",
            "_________________________________________________________________\n",
            "conv2d_6 (Conv2D)            (None, 3, 3, 128)         73856     \n",
            "_________________________________________________________________\n",
            "dropout_7 (Dropout)          (None, 3, 3, 128)         0         \n",
            "_________________________________________________________________\n",
            "flatten_2 (Flatten)          (None, 1152)              0         \n",
            "_________________________________________________________________\n",
            "dense_3 (Dense)              (None, 128)               147584    \n",
            "_________________________________________________________________\n",
            "dropout_8 (Dropout)          (None, 128)               0         \n",
            "_________________________________________________________________\n",
            "dense_4 (Dense)              (None, 10)                1290      \n",
            "=================================================================\n",
            "Total params: 241,546\n",
            "Trainable params: 241,546\n",
            "Non-trainable params: 0\n",
            "_________________________________________________________________\n"
          ],
          "name": "stdout"
        }
      ]
    },
    {
      "cell_type": "markdown",
      "metadata": {
        "id": "NpWnhBmOe7gr",
        "colab_type": "text"
      },
      "source": [
        "## ***Compilation of model***"
      ]
    },
    {
      "cell_type": "code",
      "metadata": {
        "id": "Y0WzBDSee4QS",
        "colab_type": "code",
        "colab": {}
      },
      "source": [
        "model.compile(loss='sparse_categorical_crossentropy',\n",
        "              optimizer='adam',\n",
        "             metrics = ['accuracy'])"
      ],
      "execution_count": 0,
      "outputs": []
    },
    {
      "cell_type": "markdown",
      "metadata": {
        "id": "xHzq5eWsfnui",
        "colab_type": "text"
      },
      "source": [
        "## **Fit the data in to model**"
      ]
    },
    {
      "cell_type": "code",
      "metadata": {
        "id": "X1VeIm8sfj6k",
        "colab_type": "code",
        "outputId": "fdde929c-3f7c-4ac1-8afd-952bc97d0056",
        "colab": {
          "base_uri": "https://localhost:8080/",
          "height": 1000
        }
      },
      "source": [
        "history = model.fit(X_train, y_train,\n",
        "          batch_size=256,\n",
        "          epochs=50,\n",
        "          verbose=1,\n",
        "          validation_data=(X_train, y_train))\n",
        "score = model.evaluate(X_test, y_test, verbose=0)"
      ],
      "execution_count": 0,
      "outputs": [
        {
          "output_type": "stream",
          "text": [
            "W0802 10:53:40.968758 140045972879232 deprecation.py:323] From /usr/local/lib/python3.6/dist-packages/tensorflow/python/ops/math_grad.py:1250: add_dispatch_support.<locals>.wrapper (from tensorflow.python.ops.array_ops) is deprecated and will be removed in a future version.\n",
            "Instructions for updating:\n",
            "Use tf.where in 2.0, which has the same broadcast rule as np.where\n"
          ],
          "name": "stderr"
        },
        {
          "output_type": "stream",
          "text": [
            "Train on 60000 samples, validate on 60000 samples\n",
            "Epoch 1/50\n",
            "60000/60000 [==============================] - 69s 1ms/step - loss: 0.8075 - acc: 0.6959 - val_loss: 0.4799 - val_acc: 0.8223\n",
            "Epoch 2/50\n",
            "60000/60000 [==============================] - 68s 1ms/step - loss: 0.4923 - acc: 0.8194 - val_loss: 0.3861 - val_acc: 0.8587\n",
            "Epoch 3/50\n",
            "60000/60000 [==============================] - 69s 1ms/step - loss: 0.4255 - acc: 0.8436 - val_loss: 0.3328 - val_acc: 0.8777\n",
            "Epoch 4/50\n",
            "60000/60000 [==============================] - 68s 1ms/step - loss: 0.3834 - acc: 0.8608 - val_loss: 0.3036 - val_acc: 0.8883\n",
            "Epoch 5/50\n",
            "60000/60000 [==============================] - 69s 1ms/step - loss: 0.3554 - acc: 0.8697 - val_loss: 0.2795 - val_acc: 0.8974\n",
            "Epoch 6/50\n",
            "60000/60000 [==============================] - 69s 1ms/step - loss: 0.3368 - acc: 0.8777 - val_loss: 0.2641 - val_acc: 0.9031\n",
            "Epoch 7/50\n",
            "60000/60000 [==============================] - 69s 1ms/step - loss: 0.3162 - acc: 0.8855 - val_loss: 0.2527 - val_acc: 0.9063\n",
            "Epoch 8/50\n",
            "60000/60000 [==============================] - 69s 1ms/step - loss: 0.3089 - acc: 0.8864 - val_loss: 0.2404 - val_acc: 0.9097\n",
            "Epoch 9/50\n",
            "60000/60000 [==============================] - 68s 1ms/step - loss: 0.2967 - acc: 0.8916 - val_loss: 0.2305 - val_acc: 0.9146\n",
            "Epoch 10/50\n",
            "60000/60000 [==============================] - 68s 1ms/step - loss: 0.2886 - acc: 0.8934 - val_loss: 0.2236 - val_acc: 0.9182\n",
            "Epoch 11/50\n",
            "60000/60000 [==============================] - 69s 1ms/step - loss: 0.2781 - acc: 0.8973 - val_loss: 0.2102 - val_acc: 0.9223\n",
            "Epoch 12/50\n",
            "60000/60000 [==============================] - 68s 1ms/step - loss: 0.2729 - acc: 0.8978 - val_loss: 0.2170 - val_acc: 0.9170\n",
            "Epoch 13/50\n",
            "60000/60000 [==============================] - 68s 1ms/step - loss: 0.2670 - acc: 0.9016 - val_loss: 0.2050 - val_acc: 0.9251\n",
            "Epoch 14/50\n",
            "60000/60000 [==============================] - 68s 1ms/step - loss: 0.2625 - acc: 0.9042 - val_loss: 0.1983 - val_acc: 0.9269\n",
            "Epoch 15/50\n",
            "60000/60000 [==============================] - 69s 1ms/step - loss: 0.2580 - acc: 0.9037 - val_loss: 0.1922 - val_acc: 0.9290\n",
            "Epoch 16/50\n",
            "60000/60000 [==============================] - 68s 1ms/step - loss: 0.2498 - acc: 0.9083 - val_loss: 0.1895 - val_acc: 0.9299\n",
            "Epoch 17/50\n",
            "60000/60000 [==============================] - 69s 1ms/step - loss: 0.2453 - acc: 0.9088 - val_loss: 0.1807 - val_acc: 0.9322\n",
            "Epoch 18/50\n",
            "60000/60000 [==============================] - 68s 1ms/step - loss: 0.2427 - acc: 0.9098 - val_loss: 0.1781 - val_acc: 0.9337\n",
            "Epoch 19/50\n",
            "60000/60000 [==============================] - 68s 1ms/step - loss: 0.2396 - acc: 0.9113 - val_loss: 0.1731 - val_acc: 0.9350\n",
            "Epoch 20/50\n",
            "60000/60000 [==============================] - 68s 1ms/step - loss: 0.2359 - acc: 0.9124 - val_loss: 0.1680 - val_acc: 0.9372\n",
            "Epoch 21/50\n",
            "60000/60000 [==============================] - 68s 1ms/step - loss: 0.2299 - acc: 0.9149 - val_loss: 0.1669 - val_acc: 0.9376\n",
            "Epoch 22/50\n",
            "60000/60000 [==============================] - 68s 1ms/step - loss: 0.2295 - acc: 0.9147 - val_loss: 0.1635 - val_acc: 0.9405\n",
            "Epoch 23/50\n",
            "60000/60000 [==============================] - 69s 1ms/step - loss: 0.2270 - acc: 0.9162 - val_loss: 0.1590 - val_acc: 0.9404\n",
            "Epoch 24/50\n",
            "60000/60000 [==============================] - 69s 1ms/step - loss: 0.2242 - acc: 0.9153 - val_loss: 0.1518 - val_acc: 0.9436\n",
            "Epoch 25/50\n",
            "60000/60000 [==============================] - 68s 1ms/step - loss: 0.2233 - acc: 0.9172 - val_loss: 0.1525 - val_acc: 0.9435\n",
            "Epoch 26/50\n",
            "60000/60000 [==============================] - 68s 1ms/step - loss: 0.2202 - acc: 0.9163 - val_loss: 0.1484 - val_acc: 0.9446\n",
            "Epoch 27/50\n",
            "60000/60000 [==============================] - 68s 1ms/step - loss: 0.2173 - acc: 0.9204 - val_loss: 0.1475 - val_acc: 0.9454\n",
            "Epoch 28/50\n",
            "60000/60000 [==============================] - 69s 1ms/step - loss: 0.2144 - acc: 0.9196 - val_loss: 0.1435 - val_acc: 0.9474\n",
            "Epoch 29/50\n",
            "60000/60000 [==============================] - 68s 1ms/step - loss: 0.2132 - acc: 0.9203 - val_loss: 0.1419 - val_acc: 0.9483\n",
            "Epoch 30/50\n",
            "60000/60000 [==============================] - 68s 1ms/step - loss: 0.2108 - acc: 0.9214 - val_loss: 0.1376 - val_acc: 0.9490\n",
            "Epoch 31/50\n",
            "60000/60000 [==============================] - 68s 1ms/step - loss: 0.2085 - acc: 0.9222 - val_loss: 0.1387 - val_acc: 0.9488\n",
            "Epoch 32/50\n",
            "60000/60000 [==============================] - 68s 1ms/step - loss: 0.2065 - acc: 0.9229 - val_loss: 0.1359 - val_acc: 0.9509\n",
            "Epoch 33/50\n",
            "60000/60000 [==============================] - 68s 1ms/step - loss: 0.2087 - acc: 0.9222 - val_loss: 0.1345 - val_acc: 0.9499\n",
            "Epoch 34/50\n",
            "60000/60000 [==============================] - 68s 1ms/step - loss: 0.2021 - acc: 0.9238 - val_loss: 0.1327 - val_acc: 0.9512\n",
            "Epoch 35/50\n",
            "60000/60000 [==============================] - 68s 1ms/step - loss: 0.2004 - acc: 0.9239 - val_loss: 0.1259 - val_acc: 0.9542\n",
            "Epoch 36/50\n",
            "60000/60000 [==============================] - 68s 1ms/step - loss: 0.2010 - acc: 0.9241 - val_loss: 0.1260 - val_acc: 0.9536\n",
            "Epoch 37/50\n",
            "60000/60000 [==============================] - 68s 1ms/step - loss: 0.1971 - acc: 0.9265 - val_loss: 0.1242 - val_acc: 0.9546\n",
            "Epoch 38/50\n",
            "60000/60000 [==============================] - 68s 1ms/step - loss: 0.2016 - acc: 0.9242 - val_loss: 0.1437 - val_acc: 0.9465\n",
            "Epoch 39/50\n",
            "60000/60000 [==============================] - 68s 1ms/step - loss: 0.1966 - acc: 0.9256 - val_loss: 0.1228 - val_acc: 0.9537\n",
            "Epoch 40/50\n",
            "60000/60000 [==============================] - 68s 1ms/step - loss: 0.1959 - acc: 0.9259 - val_loss: 0.1199 - val_acc: 0.9554\n",
            "Epoch 41/50\n",
            "60000/60000 [==============================] - 68s 1ms/step - loss: 0.1950 - acc: 0.9278 - val_loss: 0.1167 - val_acc: 0.9572\n",
            "Epoch 42/50\n",
            "60000/60000 [==============================] - 68s 1ms/step - loss: 0.1927 - acc: 0.9272 - val_loss: 0.1183 - val_acc: 0.9574\n",
            "Epoch 43/50\n",
            "60000/60000 [==============================] - 68s 1ms/step - loss: 0.1914 - acc: 0.9271 - val_loss: 0.1199 - val_acc: 0.9580\n",
            "Epoch 44/50\n",
            "60000/60000 [==============================] - 68s 1ms/step - loss: 0.1890 - acc: 0.9288 - val_loss: 0.1154 - val_acc: 0.9574\n",
            "Epoch 45/50\n",
            "60000/60000 [==============================] - 68s 1ms/step - loss: 0.1878 - acc: 0.9287 - val_loss: 0.1132 - val_acc: 0.9591\n",
            "Epoch 46/50\n",
            "60000/60000 [==============================] - 69s 1ms/step - loss: 0.1871 - acc: 0.9282 - val_loss: 0.1133 - val_acc: 0.9581\n",
            "Epoch 47/50\n",
            "60000/60000 [==============================] - 69s 1ms/step - loss: 0.1883 - acc: 0.9293 - val_loss: 0.1107 - val_acc: 0.9609\n",
            "Epoch 48/50\n",
            "60000/60000 [==============================] - 69s 1ms/step - loss: 0.1881 - acc: 0.9293 - val_loss: 0.1113 - val_acc: 0.9590\n",
            "Epoch 49/50\n",
            "60000/60000 [==============================] - 68s 1ms/step - loss: 0.1850 - acc: 0.9298 - val_loss: 0.1136 - val_acc: 0.9569\n",
            "Epoch 50/50\n",
            "60000/60000 [==============================] - 68s 1ms/step - loss: 0.1866 - acc: 0.9293 - val_loss: 0.1069 - val_acc: 0.9629\n"
          ],
          "name": "stdout"
        }
      ]
    },
    {
      "cell_type": "code",
      "metadata": {
        "id": "F27RS642hp4m",
        "colab_type": "code",
        "outputId": "f57b9ca1-a022-4ec2-91e3-5baa3bcab28d",
        "colab": {
          "base_uri": "https://localhost:8080/",
          "height": 50
        }
      },
      "source": [
        "print('Test loss:', score[0])\n",
        "print('Test accuracy:', score[1])"
      ],
      "execution_count": 0,
      "outputs": [
        {
          "output_type": "stream",
          "text": [
            "Test loss: 0.2110784000277519\n",
            "Test accuracy: 0.9226\n"
          ],
          "name": "stdout"
        }
      ]
    },
    {
      "cell_type": "markdown",
      "metadata": {
        "id": "dlHHmJ2ziJgO",
        "colab_type": "text"
      },
      "source": [
        "## **Above shows accuracy score of 82.76%.The first parameter is loss**"
      ]
    },
    {
      "cell_type": "code",
      "metadata": {
        "id": "0YHdEIuqidqX",
        "colab_type": "code",
        "outputId": "929b7b69-b0f2-4fb8-cfda-dd774a187397",
        "colab": {
          "base_uri": "https://localhost:8080/",
          "height": 582
        }
      },
      "source": [
        "plt.matshow(X_test[1])"
      ],
      "execution_count": 0,
      "outputs": [
        {
          "output_type": "error",
          "ename": "ValueError",
          "evalue": "ignored",
          "traceback": [
            "\u001b[0;31m---------------------------------------------------------------------------\u001b[0m",
            "\u001b[0;31mValueError\u001b[0m                                Traceback (most recent call last)",
            "\u001b[0;32m<ipython-input-19-168adaa4e7f1>\u001b[0m in \u001b[0;36m<module>\u001b[0;34m()\u001b[0m\n\u001b[0;32m----> 1\u001b[0;31m \u001b[0mplt\u001b[0m\u001b[0;34m.\u001b[0m\u001b[0mmatshow\u001b[0m\u001b[0;34m(\u001b[0m\u001b[0mX_test\u001b[0m\u001b[0;34m[\u001b[0m\u001b[0;36m1\u001b[0m\u001b[0;34m]\u001b[0m\u001b[0;34m)\u001b[0m\u001b[0;34m\u001b[0m\u001b[0;34m\u001b[0m\u001b[0m\n\u001b[0m",
            "\u001b[0;32m/usr/local/lib/python3.6/dist-packages/matplotlib/pyplot.py\u001b[0m in \u001b[0;36mmatshow\u001b[0;34m(A, fignum, **kwargs)\u001b[0m\n\u001b[1;32m   2205\u001b[0m         \u001b[0max\u001b[0m  \u001b[0;34m=\u001b[0m \u001b[0mfig\u001b[0m\u001b[0;34m.\u001b[0m\u001b[0madd_axes\u001b[0m\u001b[0;34m(\u001b[0m\u001b[0;34m[\u001b[0m\u001b[0;36m0.15\u001b[0m\u001b[0;34m,\u001b[0m \u001b[0;36m0.09\u001b[0m\u001b[0;34m,\u001b[0m \u001b[0;36m0.775\u001b[0m\u001b[0;34m,\u001b[0m \u001b[0;36m0.775\u001b[0m\u001b[0;34m]\u001b[0m\u001b[0;34m)\u001b[0m\u001b[0;34m\u001b[0m\u001b[0;34m\u001b[0m\u001b[0m\n\u001b[1;32m   2206\u001b[0m \u001b[0;34m\u001b[0m\u001b[0m\n\u001b[0;32m-> 2207\u001b[0;31m     \u001b[0mim\u001b[0m \u001b[0;34m=\u001b[0m \u001b[0max\u001b[0m\u001b[0;34m.\u001b[0m\u001b[0mmatshow\u001b[0m\u001b[0;34m(\u001b[0m\u001b[0mA\u001b[0m\u001b[0;34m,\u001b[0m \u001b[0;34m**\u001b[0m\u001b[0mkwargs\u001b[0m\u001b[0;34m)\u001b[0m\u001b[0;34m\u001b[0m\u001b[0;34m\u001b[0m\u001b[0m\n\u001b[0m\u001b[1;32m   2208\u001b[0m     \u001b[0msci\u001b[0m\u001b[0;34m(\u001b[0m\u001b[0mim\u001b[0m\u001b[0;34m)\u001b[0m\u001b[0;34m\u001b[0m\u001b[0;34m\u001b[0m\u001b[0m\n\u001b[1;32m   2209\u001b[0m     \u001b[0;32mreturn\u001b[0m \u001b[0mim\u001b[0m\u001b[0;34m\u001b[0m\u001b[0;34m\u001b[0m\u001b[0m\n",
            "\u001b[0;32m/usr/local/lib/python3.6/dist-packages/matplotlib/axes/_axes.py\u001b[0m in \u001b[0;36mmatshow\u001b[0;34m(self, Z, **kwargs)\u001b[0m\n\u001b[1;32m   7798\u001b[0m         \"\"\"\n\u001b[1;32m   7799\u001b[0m         \u001b[0mZ\u001b[0m \u001b[0;34m=\u001b[0m \u001b[0mnp\u001b[0m\u001b[0;34m.\u001b[0m\u001b[0masanyarray\u001b[0m\u001b[0;34m(\u001b[0m\u001b[0mZ\u001b[0m\u001b[0;34m)\u001b[0m\u001b[0;34m\u001b[0m\u001b[0;34m\u001b[0m\u001b[0m\n\u001b[0;32m-> 7800\u001b[0;31m         \u001b[0mnr\u001b[0m\u001b[0;34m,\u001b[0m \u001b[0mnc\u001b[0m \u001b[0;34m=\u001b[0m \u001b[0mZ\u001b[0m\u001b[0;34m.\u001b[0m\u001b[0mshape\u001b[0m\u001b[0;34m\u001b[0m\u001b[0;34m\u001b[0m\u001b[0m\n\u001b[0m\u001b[1;32m   7801\u001b[0m         kw = {'origin': 'upper',\n\u001b[1;32m   7802\u001b[0m               \u001b[0;34m'interpolation'\u001b[0m\u001b[0;34m:\u001b[0m \u001b[0;34m'nearest'\u001b[0m\u001b[0;34m,\u001b[0m\u001b[0;34m\u001b[0m\u001b[0;34m\u001b[0m\u001b[0m\n",
            "\u001b[0;31mValueError\u001b[0m: too many values to unpack (expected 2)"
          ]
        },
        {
          "output_type": "display_data",
          "data": {
            "image/png": "[encoded data removed]",
            "text/plain": [
              "<Figure size 288x288 with 1 Axes>"
            ]
          },
          "metadata": {
            "tags": []
          }
        }
      ]
    },
    {
      "cell_type": "code",
      "metadata": {
        "id": "xV5uzQCJitkI",
        "colab_type": "code",
        "colab": {}
      },
      "source": [
        "y_predict = model.predict(X_test)"
      ],
      "execution_count": 0,
      "outputs": []
    },
    {
      "cell_type": "code",
      "metadata": {
        "id": "CVaBBMI_kAz7",
        "colab_type": "code",
        "outputId": "4e21e1fa-c2b3-4c6b-8af3-232aa93f9ece",
        "colab": {
          "base_uri": "https://localhost:8080/",
          "height": 34
        }
      },
      "source": [
        "np.argmax(y_predict[0])"
      ],
      "execution_count": 0,
      "outputs": [
        {
          "output_type": "execute_result",
          "data": {
            "text/plain": [
              "9"
            ]
          },
          "metadata": {
            "tags": []
          },
          "execution_count": 23
        }
      ]
    },
    {
      "cell_type": "code",
      "metadata": {
        "id": "e3YtFO7ykQCK",
        "colab_type": "code",
        "colab": {}
      },
      "source": [
        "\n",
        "class_labels = [\"T-shirt/top\",\"Trouser\",\"Pullover\",\"Dress\",\"Coat\",\"Sandal\",\"Shirt\",\"Sneaker\",\"Bag\",\"Ankle boot\"]"
      ],
      "execution_count": 0,
      "outputs": []
    },
    {
      "cell_type": "code",
      "metadata": {
        "id": "D7grNqftk0-Z",
        "colab_type": "code",
        "outputId": "c2e63e0b-0116-466c-8a46-0f5692f90426",
        "colab": {
          "base_uri": "https://localhost:8080/",
          "height": 34
        }
      },
      "source": [
        "class_labels[np.argmax(y_predict[0])]"
      ],
      "execution_count": 0,
      "outputs": [
        {
          "output_type": "execute_result",
          "data": {
            "text/plain": [
              "'Ankle boot'"
            ]
          },
          "metadata": {
            "tags": []
          },
          "execution_count": 25
        }
      ]
    },
    {
      "cell_type": "markdown",
      "metadata": {
        "id": "Kio8FrVpZJXb",
        "colab_type": "text"
      },
      "source": [
        "# Ploting training and validation accuracy as well as loss."
      ]
    },
    {
      "cell_type": "code",
      "metadata": {
        "id": "asqO6fSbME1T",
        "colab_type": "code",
        "outputId": "d3fd3bc4-95e6-4470-a4d5-909625c3db43",
        "colab": {
          "base_uri": "https://localhost:8080/",
          "height": 545
        }
      },
      "source": [
        "accuracy = history.history['acc']\n",
        "val_accuracy = history.history['val_acc']\n",
        "loss = history.history['loss']\n",
        "val_loss = history.history['val_loss']\n",
        "epochs = range(len(accuracy))\n",
        "\n",
        "plt.plot(epochs,accuracy,'bo',label='Training accuracy')\n",
        "plt.plot(epochs,val_accuracy,'b',label='Validation accuracy')\n",
        "plt.title('Training and validation accuracy')\n",
        "plt.legend()\n",
        "plt.figure()\n",
        "plt.plot(epochs,loss,'bo',label='Training loss')\n",
        "plt.plot(epochs,val_loss,'b',label= 'Validation loss')\n",
        "plt.title('Training and validation loss')                            \n",
        "plt.legend()\n",
        "plt.show()\n"
      ],
      "execution_count": 0,
      "outputs": [
        {
          "output_type": "display_data",
          "data": {
            "image/png": "[encoded data removed]",
            "text/plain": [
              "<Figure size 432x288 with 1 Axes>"
            ]
          },
          "metadata": {
            "tags": []
          }
        },
        {
          "output_type": "display_data",
          "data": {
            "image/png": "[encoded data removed]",
            "text/plain": [
              "<Figure size 432x288 with 1 Axes>"
            ]
          },
          "metadata": {
            "tags": []
          }
        }
      ]
    }
  ]
}